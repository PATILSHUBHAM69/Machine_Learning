{
 "cells": [
  {
   "cell_type": "code",
   "execution_count": 1,
   "id": "fb281171",
   "metadata": {},
   "outputs": [],
   "source": [
    "import pandas as pd \n",
    "import numpy as np\n",
    "import matplotlib.pyplot as plt\n",
    "import sklearn \n",
    "import seaborn as sns\n",
    "from sklearn.model_selection import train_test_split\n",
    "from sklearn.metrics import accuracy_score\n",
    "%matplotlib inline"
   ]
  },
  {
   "cell_type": "code",
   "execution_count": 2,
   "id": "5308e4ea",
   "metadata": {},
   "outputs": [],
   "source": [
    "from sklearn.datasets import make_blobs\n",
    "X,y = make_blobs(n_samples = 400, centers = 4, cluster_std = 0.60, random_state=10)\n",
    "range_n_clusters = [2,3,4,5,6]"
   ]
  },
  {
   "cell_type": "code",
   "execution_count": 17,
   "id": "deab5314",
   "metadata": {},
   "outputs": [
    {
     "data": {
      "text/plain": [
       "(400, 2)"
      ]
     },
     "execution_count": 17,
     "metadata": {},
     "output_type": "execute_result"
    }
   ],
   "source": [
    "X\n",
    "X.shape"
   ]
  },
  {
   "cell_type": "code",
   "execution_count": 18,
   "id": "11fa480f",
   "metadata": {},
   "outputs": [
    {
     "data": {
      "text/plain": [
       "(400,)"
      ]
     },
     "execution_count": 18,
     "metadata": {},
     "output_type": "execute_result"
    }
   ],
   "source": [
    "y\n",
    "y.shape"
   ]
  },
  {
   "cell_type": "code",
   "execution_count": 5,
   "id": "eeba5989",
   "metadata": {},
   "outputs": [
    {
     "data": {
      "image/png": "[encoded data removed]",
      "text/plain": [
       "<Figure size 432x288 with 1 Axes>"
      ]
     },
     "metadata": {
      "needs_background": "light"
     },
     "output_type": "display_data"
    }
   ],
   "source": [
    "plt.scatter(X[:, 0], X[:,1]);\n",
    "plt.show()"
   ]
  },
  {
   "cell_type": "code",
   "execution_count": 19,
   "id": "c730eb44",
   "metadata": {},
   "outputs": [
    {
     "name": "stderr",
     "output_type": "stream",
     "text": [
      "C:\\ProgramData\\Anaconda3\\lib\\site-packages\\sklearn\\cluster\\_kmeans.py:1036: UserWarning: KMeans is known to have a memory leak on Windows with MKL, when there are less chunks than available threads. You can avoid it by setting the environment variable OMP_NUM_THREADS=2.\n",
      "  warnings.warn(\n"
     ]
    },
    {
     "name": "stdout",
     "output_type": "stream",
     "text": [
      "[24448.552004635654]\n",
      "[24448.552004635654, 6500.873193610489]\n",
      "[24448.552004635654, 6500.873193610489, 2629.1669904529317]\n",
      "[24448.552004635654, 6500.873193610489, 2629.1669904529317, 256.7620097458041]\n",
      "[24448.552004635654, 6500.873193610489, 2629.1669904529317, 256.7620097458041, 231.67094189224824]\n",
      "[24448.552004635654, 6500.873193610489, 2629.1669904529317, 256.7620097458041, 231.67094189224824, 209.65341982323352]\n",
      "[24448.552004635654, 6500.873193610489, 2629.1669904529317, 256.7620097458041, 231.67094189224824, 209.65341982323352, 185.6563462826746]\n",
      "[24448.552004635654, 6500.873193610489, 2629.1669904529317, 256.7620097458041, 231.67094189224824, 209.65341982323352, 185.6563462826746, 165.9869006763014]\n",
      "[24448.552004635654, 6500.873193610489, 2629.1669904529317, 256.7620097458041, 231.67094189224824, 209.65341982323352, 185.6563462826746, 165.9869006763014, 147.45720611652018]\n",
      "[24448.552004635654, 6500.873193610489, 2629.1669904529317, 256.7620097458041, 231.67094189224824, 209.65341982323352, 185.6563462826746, 165.9869006763014, 147.45720611652018, 135.72056210950632]\n"
     ]
    },
    {
     "data": {
      "image/png": "[encoded data removed]",
      "text/plain": [
       "<Figure size 432x288 with 1 Axes>"
      ]
     },
     "metadata": {
      "needs_background": "light"
     },
     "output_type": "display_data"
    }
   ],
   "source": [
    "from sklearn.cluster import KMeans\n",
    "\n",
    "wcss = []\n",
    "for i in range(1,11):\n",
    "    kmeans=KMeans(n_clusters=i, init='k-means++',random_state=0)\n",
    "    kmeans.fit(X)\n",
    "    wcss.append(kmeans.inertia_)\n",
    "    print(wcss)\n",
    "    \n",
    "plt.plot(range(1,11),wcss)\n",
    "plt.title('The Elbow Method')\n",
    "plt.xlabel('Number of cluster')\n",
    "plt.ylabel('wcss')\n",
    "plt.show()"
   ]
  },
  {
   "cell_type": "code",
   "execution_count": 7,
   "id": "df86142c",
   "metadata": {},
   "outputs": [
    {
     "name": "stdout",
     "output_type": "stream",
     "text": [
      "[1 3 1 0 0 2 2 3 3 3 2 1 2 0 0 2 1 1 3 2 0 3 2 1 2 0 3 0 0 2 3 3 2 2 1 2 0\n",
      " 0 1 0 2 2 1 2 2 2 1 2 2 0 2 3 2 3 3 3 0 0 0 2 1 2 0 1 3 0 1 0 1 3 2 0 0 2\n",
      " 3 3 0 3 3 3 1 0 0 0 1 0 1 2 1 0 0 2 3 0 3 3 0 2 2 2 3 3 3 2 0 0 2 1 3 2 2\n",
      " 1 0 1 3 1 2 3 1 1 1 0 2 0 1 0 2 1 1 3 0 0 1 0 2 1 2 1 1 0 0 0 3 1 0 3 1 3\n",
      " 2 2 1 1 2 1 2 1 1 1 2 1 1 3 0 1 1 0 1 3 0 0 1 3 2 3 3 3 2 0 0 3 2 0 0 0 3\n",
      " 0 2 2 3 0 3 1 3 3 2 3 3 3 1 3 0 3 2 0 2 1 0 3 0 3 1 0 2 2 2 3 2 3 1 2 1 2\n",
      " 0 1 3 0 0 3 2 1 2 3 1 2 3 1 0 0 1 3 3 3 1 2 1 0 0 3 1 0 0 1 0 2 1 3 1 2 2\n",
      " 2 0 3 1 1 1 0 0 3 1 3 3 0 2 1 0 3 2 3 3 3 2 2 0 0 2 0 3 2 1 2 3 1 1 2 0 3\n",
      " 1 0 1 1 0 2 2 2 3 2 3 2 1 0 0 3 3 3 1 3 1 1 2 3 2 0 0 3 0 2 3 2 3 0 3 2 0\n",
      " 0 3 3 0 1 1 2 0 2 1 3 3 2 1 1 1 1 3 0 1 3 2 1 1 3 2 2 1 3 0 3 2 2 1 1 1 3\n",
      " 2 0 3 0 3 1 1 2 1 0 1 1 2 3 1 2 0 0 0 1 0 2 2 3 2 0 0 1 3 2]\n"
     ]
    }
   ],
   "source": [
    "clusterer = KMeans(n_clusters=4, random_state=10)\n",
    "cluster_labels = clusterer.fit_predict(X)\n",
    "print(cluster_labels)"
   ]
  },
  {
   "cell_type": "code",
   "execution_count": null,
   "id": "accb0cad",
   "metadata": {},
   "outputs": [],
   "source": []
  }
 ],
 "metadata": {
  "kernelspec": {
   "display_name": "Python 3 (ipykernel)",
   "language": "python",
   "name": "python3"
  },
  "language_info": {
   "codemirror_mode": {
    "name": "ipython",
    "version": 3
   },
   "file_extension": ".py",
   "mimetype": "text/x-python",
   "name": "python",
   "nbconvert_exporter": "python",
   "pygments_lexer": "ipython3",
   "version": "3.9.12"
  }
 },
 "nbformat": 4,
 "nbformat_minor": 5
}
